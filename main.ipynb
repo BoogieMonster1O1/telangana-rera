{
 "cells": [
  {
   "cell_type": "markdown",
   "source": [
    "# Telangana RERA Scraper"
   ],
   "metadata": {
    "collapsed": false,
    "pycharm": {
     "name": "#%% md\n"
    }
   }
  },
  {
   "cell_type": "markdown",
   "source": [
    "1. Open the website ™"
   ],
   "metadata": {
    "collapsed": false
   }
  },
  {
   "cell_type": "code",
   "execution_count": 9,
   "outputs": [],
   "source": [
    "from selenium import webdriver\n",
    "from selenium.webdriver.common.keys import Keys\n",
    "\n",
    "# noinspection PyRedeclaration\n",
    "browser = webdriver.Chrome(executable_path=\"/usr/local/bin/chromedriver\") # TODO\n",
    "browser.get(\"http://rerait.telangana.gov.in/SearchList/Search\")\n",
    "page_size = browser.find_element_by_id('PageSize')\n",
    "page_size.send_keys(\"0\")"
   ],
   "metadata": {
    "collapsed": false,
    "pycharm": {
     "name": "#%%\n"
    }
   }
  }
 ],
 "metadata": {
  "kernelspec": {
   "display_name": "Python 3",
   "language": "python",
   "name": "python3"
  },
  "language_info": {
   "codemirror_mode": {
    "name": "ipython",
    "version": 2
   },
   "file_extension": ".py",
   "mimetype": "text/x-python",
   "name": "python",
   "nbconvert_exporter": "python",
   "pygments_lexer": "ipython2",
   "version": "2.7.6"
  }
 },
 "nbformat": 4,
 "nbformat_minor": 0
}