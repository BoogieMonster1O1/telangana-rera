{
 "cells": [
  {
   "cell_type": "markdown",
   "metadata": {
    "collapsed": false,
    "pycharm": {
     "name": "#%% md\n"
    }
   },
   "source": [
    "# Telangana RERA Scraper"
   ]
  },
  {
   "cell_type": "markdown",
   "metadata": {
    "collapsed": false
   },
   "source": [
    "1. Open the website ™ (and import stuff)"
   ]
  },
  {
   "cell_type": "code",
   "execution_count": 17,
   "metadata": {
    "collapsed": false,
    "pycharm": {
     "name": "#%%\n"
    }
   },
   "outputs": [],
   "source": [
    "from selenium.webdriver.chrome.webdriver import WebDriver\n",
    "from selenium import webdriver\n",
    "from selenium.webdriver.common.keys import Keys\n",
    "import json\n",
    "import platform\n",
    "\n",
    "browser: WebDriver\n",
    "\n",
    "if platform == 'Darwin':\n",
    "\tbrowser = webdriver.Safari()\n",
    "else:\n",
    "    browser = webdriver.Chrome(executable_path=\"/usr/local/bin/chromedriver\")\n",
    "\n",
    "browser.get(\"http://rerait.telangana.gov.in/SearchList/Search\")\n",
    "page_size = browser.find_element_by_id('PageSize')\n",
    "\n",
    "# Uncomment this when not in development; it'll use 100 elements per page instead of the default 10\n",
    "# page_size.send_keys(\"0\")\n",
    "\n",
    "counter: int = 1"
   ]
  },
  {
   "cell_type": "markdown",
   "metadata": {
    "collapsed": false
   },
   "source": [
    "2. Scrape the 100 entries on the page"
   ]
  },
  {
   "cell_type": "code",
   "execution_count": 29,
   "metadata": {
    "collapsed": false,
    "pycharm": {
     "name": "#%%\n"
    }
   },
   "outputs": [
    {
     "name": "stdout",
     "output_type": "stream",
     "text": [
      "SKV S ANANDA VILAS KACHAM  RAJESHWAR 31/08/2018 00:00:00\n",
      "MY HOME KRISHE MY Home Constructions PVT. Ltd. 03/12/2021 00:00:00\n",
      "RAJAPUSHPA ETERNA RAJAPUSHPA PROPERTIES PVT. LTD. 09/12/2021 00:00:00\n",
      "SMR VINAY METRO MALL SMR BUILDERS PRIVATE LIMITED 03/12/2021 00:00:00\n",
      "MYSCAPE-ISLE OF SKY MYSCAPE PROPERTIES PRIVATE LIMITED 02/12/2021 00:00:00\n",
      "PRANEETH PRANAV ZENITH PRANEETH PROJECTS 18/11/2018 00:00:00\n",
      "APURUPA JAGAPATI HEIGHTS APURUPA SHELTERS 10/11/2021 00:00:00\n",
      "SILVER OAK VILLAS Silver Oak Villas LLP 17/05/2021 00:00:00\n",
      "INDU ANNEXE PROJCT M/S CHIDCO PRIVATE LIMITED 28/06/2019 00:00:00\n",
      "R.V.SOMWRITA R.V. NIRMAAN PVT.LTD., 31/01/2022 00:00:00\n"
     ]
    }
   ],
   "source": [
    "from selenium.webdriver.remote.webelement import WebElement\n",
    "\n",
    "row_xpath = '//*[@id=\"gridview\"]/div[1]/div/table/tbody/tr'\n",
    "\n",
    "listOfVars = []\n",
    "\n",
    "rows: list[WebElement] = browser.find_elements_by_xpath(row_xpath)\n",
    "for row_i, row in enumerate(rows):\n",
    "\tcells: list[WebElement] = row.find_elements_by_xpath('{}[{}]/td'.format(row_xpath, row_i + 1))\n",
    "\t# Intentionally using camelCase instead of snake_case as the schema uses camelCase\n",
    "\tprojectName = cells[1].get_attribute('innerHTML')\n",
    "\tpromoterName = cells[2].get_attribute('innerHTML')\n",
    "\tlastModifiedDate = cells[3].get_attribute('innerHTML')\n",
    "\tdictionary = {\"projectName\": projectName, \"promoterName\": promoterName, \"lastModifiedDate\": lastModifiedDate}\n",
    "\tlistOfVars.append(dictionary)\n",
    "\n",
    "file = open(\"data.json\", \"w\")\n",
    "file.write(\"%s = %s\\n\" %(\"listOfVars\", listOfVars))\n",
    "\n",
    "file.close()\n",
    "\n",
    "\n",
    "counter += 1 # Use this in the file name"
   ]
  }
 ],
 "metadata": {
  "kernelspec": {
   "display_name": "Python 3",
   "language": "python",
   "name": "python3"
  },
  "language_info": {
   "codemirror_mode": {
    "name": "ipython",
    "version": 2
   },
   "file_extension": ".py",
   "mimetype": "text/x-python",
   "name": "python",
   "nbconvert_exporter": "python",
   "pygments_lexer": "ipython2",
   "version": "2.7.6"
  }
 },
 "nbformat": 4,
 "nbformat_minor": 0
}
