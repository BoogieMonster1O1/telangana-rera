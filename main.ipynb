{
 "cells": [
  {
   "cell_type": "markdown",
   "metadata": {
    "collapsed": false,
    "pycharm": {
     "name": "#%% md\n"
    }
   },
   "source": [
    "# Telangana RERA Scraper"
   ]
  },
  {
   "cell_type": "markdown",
   "metadata": {
    "collapsed": false
   },
   "source": []
  },
  {
   "cell_type": "code",
   "execution_count": 1,
   "metadata": {
    "collapsed": false,
    "pycharm": {
     "name": "#%%\n"
    }
   },
   "outputs": [],
   "source": [
    "from selenium.webdriver.chrome.webdriver import WebDriver\n",
    "from selenium.webdriver.remote.webelement import WebElement\n",
    "from selenium.webdriver.common.keys import Keys\n",
    "from selenium.webdriver import Chrome, Safari\n",
    "from selenium.webdriver.support.wait import WebDriverWait\n",
    "import platform\n",
    "import os\n",
    "import time\n",
    "\n",
    "browser: WebDriver\n",
    "\n",
    "if platform.system() == 'Darwin' and False:\n",
    "\tbrowser = Safari()\n",
    "else:\n",
    "    browser = Chrome(executable_path=\"/usr/local/bin/chromedriver\")\n",
    "\n",
    "browser.implicitly_wait(0.5)\n",
    "browser.get(\"http://rerait.telangana.gov.in/SearchList/Search\")\n",
    "page_size = browser.find_element_by_id('PageSize')\n",
    "\n",
    "# Uncomment this when not in development; it'll use 100 elements per page instead of the default 10\n",
    "# page_size.send_keys(\"0\")\n",
    "\n",
    "counter: int = 1"
   ]
  },
  {
   "cell_type": "markdown",
   "metadata": {
    "collapsed": false
   },
   "source": [
    "2. Scrape the 100 entries on the page"
   ]
  },
  {
   "cell_type": "code",
   "execution_count": null,
   "metadata": {
    "collapsed": false,
    "pycharm": {
     "name": "#%%\n",
     "is_executing": true
    }
   },
   "outputs": [],
   "source": [
    "from selenium.webdriver.common.by import By\n",
    "from selenium.webdriver.support import expected_conditions\n",
    "\n",
    "row_xpath = '//*[@id=\"gridview\"]/div[1]/div/table/tbody/tr'\n",
    "\n",
    "rows: list[WebElement] = browser.find_elements_by_xpath(row_xpath)\n",
    "for row_i, row in enumerate(rows):\n",
    "\tcells: list[WebElement] = row.find_elements_by_xpath('{}[{}]/td'.format(row_xpath, row_i + 1))\n",
    "\t# Intentionally using camelCase instead of snake_case as the schema uses camelCase\n",
    "\tprojectName = cells[1].get_attribute('innerHTML')\n",
    "\tpromoterName = cells[2].get_attribute('innerHTML')\n",
    "\tlastModifiedDate = cells[3].get_attribute('innerHTML')\n",
    "\tview_link: WebElement = cells[4].find_element_by_xpath('./b').find_element_by_xpath('./a')\n",
    "\tview_link.click()\n",
    "\tbrowser.switch_to.window(browser.window_handles[1])\n",
    "\tWebDriverWait(browser, 10).until(expected_conditions.presence_of_element_located((By.ID, \"DivPartial\")))\n",
    "\tmandal = browser.find_element_by_xpath('//*[@id=\"DivProject\"]/div[4]/div[2]/div[2]/div/div[2]')\\\n",
    "\t\t.get_attribute('innerHTML').strip()\n",
    "\tpincode = browser.find_element_by_xpath('//*[@id=\"DivProject\"]/div[4]/div[2]/div[4]/div/div[2]')\\\n",
    "\t\t.get_attribute('innerHTML').strip()\n",
    "\tlocality = browser.find_element_by_xpath('//*[@id=\"DivProject\"]/div[4]/div[2]/div[3]/div[1]/div[4]')\\\n",
    "\t\t.get_attribute('innerHTML').strip()\n",
    "\n",
    "\tbrowser.close()\n",
    "\tbrowser.switch_to.window(browser.window_handles[0])"
   ]
  },
  {
   "cell_type": "markdown",
   "source": [
    "3. Write the 100 entries to a file"
   ],
   "metadata": {
    "collapsed": false
   }
  },
  {
   "cell_type": "code",
   "execution_count": null,
   "outputs": [],
   "source": [
    "os.makedirs('out', exist_ok=True)\n",
    "file = open(\"out/{}.csv\".format(counter), \"w\")\n",
    "# TODO\n",
    "file.close()\n",
    "counter += 1 # Use this in the file name"
   ],
   "metadata": {
    "collapsed": false,
    "pycharm": {
     "name": "#%%\n"
    }
   }
  }
 ],
 "metadata": {
  "kernelspec": {
   "display_name": "Python 3",
   "language": "python",
   "name": "python3"
  },
  "language_info": {
   "codemirror_mode": {
    "name": "ipython",
    "version": 2
   },
   "file_extension": ".py",
   "mimetype": "text/x-python",
   "name": "python",
   "nbconvert_exporter": "python",
   "pygments_lexer": "ipython2",
   "version": "2.7.6"
  }
 },
 "nbformat": 4,
 "nbformat_minor": 0
}