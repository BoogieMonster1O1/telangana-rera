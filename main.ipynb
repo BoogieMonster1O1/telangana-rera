{
 "cells": [
  {
   "cell_type": "markdown",
   "metadata": {
    "collapsed": false,
    "pycharm": {
     "name": "#%% md\n"
    }
   },
   "source": [
    "# Telangana RERA Scraper"
   ]
  },
  {
   "cell_type": "markdown",
   "metadata": {
    "collapsed": false
   },
   "source": []
  },
  {
   "cell_type": "code",
   "execution_count": 1,
   "metadata": {
    "collapsed": false,
    "pycharm": {
     "name": "#%%\n"
    }
   },
   "outputs": [],
   "source": [
    "import time\n",
    "\n",
    "from selenium.webdriver.common.keys import Keys\n",
    "import os\n",
    "import platform\n",
    "\n",
    "from selenium.webdriver import Chrome, Safari\n",
    "from selenium.webdriver.chrome.webdriver import WebDriver\n",
    "from selenium.webdriver.remote.webelement import WebElement\n",
    "\n",
    "browser: WebDriver\n",
    "\n",
    "if platform.system() == 'Darwin' and False:\n",
    "\tbrowser = Safari()\n",
    "else:\n",
    "    browser = Chrome(executable_path=\"/usr/local/bin/chromedriver\")\n",
    "\n",
    "browser.implicitly_wait(0.5)\n",
    "browser.get(\"http://rerait.telangana.gov.in/SearchList/Search\")\n",
    "page_size: WebElement = browser.find_element_by_id('PageSize')\n",
    "\n",
    "# Uncomment this when not in development; it'll use 100 elements per page instead of the default 10\n",
    "page_size.send_keys(Keys.BACKSPACE, Keys.BACKSPACE, \"5\", \"0\")\n",
    "\n",
    "\n",
    "counter: int = 1"
   ]
  },
  {
   "cell_type": "markdown",
   "metadata": {
    "collapsed": false
   },
   "source": [
    "2. Scrape the 100 entries on the page"
   ]
  },
  {
   "cell_type": "code",
   "execution_count": 2,
   "metadata": {
    "collapsed": false,
    "pycharm": {
     "name": "#%%\n"
    }
   },
   "outputs": [
    {
     "name": "stdout",
     "output_type": "stream",
     "text": [
      "bruh\n",
      "bruh\n",
      "bruh\n",
      "bruh\n",
      "bruh\n",
      "bruh\n",
      "bruh\n",
      "bruh\n"
     ]
    }
   ],
   "source": [
    "import csv\n",
    "import io\n",
    "import shutil\n",
    "from selenium.webdriver.common.by import By\n",
    "from selenium.webdriver.support import expected_conditions\n",
    "from selenium.webdriver.support.wait import WebDriverWait\n",
    "\n",
    "while counter <= 81:\n",
    "\tbrowser.switch_to.window(browser.window_handles[0])\n",
    "\n",
    "\trow_xpath = '//*[@id=\"gridview\"]/div[1]/div/table/tbody/tr'\n",
    "\n",
    "\toutput = io.StringIO()\n",
    "\twriter = csv.writer(output)\n",
    "\twriter.writerow([\n",
    "\t\t\"Project Name\",\n",
    "\t\t\"Promoter Name\",\n",
    "\t\t\"Date Last Modified\",\n",
    "\t\t\"Net Area\",\n",
    "\t\t\"Total Building Units\",\n",
    "\t\t\"Mandal\",\n",
    "\t\t\"Locality\",\n",
    "\t\t\"Pin Code\",\n",
    "\t\t\"Total No. of Apartments\",\n",
    "\t\t\"Total No. of Booked Apartments\",\n",
    "\t\t\"Total No. of Unbooked Apartments\"\n",
    "\t])\n",
    "\n",
    "\trows: list[WebElement] = browser.find_elements_by_xpath(row_xpath)\n",
    "\tfor row_i, row in enumerate(rows):\n",
    "\t\tout_cells: list[WebElement] = row.find_elements_by_xpath('{}[{}]/td'.format(row_xpath, row_i + 1))\n",
    "\t\t# Intentionally using camelCase instead of snake_case as the schema uses camelCase\n",
    "\t\tproject_name = out_cells[1].get_attribute('innerHTML')\n",
    "\t\tpromoter_name = out_cells[2].get_attribute('innerHTML')\n",
    "\t\tlast_modified_date = out_cells[3].get_attribute('innerHTML')\n",
    "\t\tview_link: WebElement = out_cells[4].find_element_by_xpath('./b').find_element_by_xpath('./a')\n",
    "\t\tview_link.click()\n",
    "\t\tbrowser.switch_to.window(browser.window_handles[1])\n",
    "\t\tWebDriverWait(browser, 10).until(expected_conditions.presence_of_element_located((By.ID, \"DivPartial\")))\n",
    "\t\ttry:\n",
    "\t\t\tmandal = browser.find_element_by_xpath('//*[@id=\"DivProject\"]/div[4]/div[2]/div[2]/div/div[2]')\\\n",
    "\t\t\t\t.get_attribute('innerHTML').strip()\n",
    "\t\t\tpincode = browser.find_element_by_xpath('//*[@id=\"DivProject\"]/div[4]/div[2]/div[4]/div/div[2]')\\\n",
    "\t\t\t\t.get_attribute('innerHTML').strip()\n",
    "\t\t\tlocality = browser.find_element_by_xpath('//*[@id=\"DivProject\"]/div[4]/div[2]/div[3]/div[1]/div[4]')\\\n",
    "\t\t\t\t.get_attribute('innerHTML').strip()\n",
    "\t\t\tnet_area = browser.find_element_by_xpath('//*[@id=\"DivProject\"]/div[2]/div[2]/div[3]/div/div[2]')\\\n",
    "\t\t\t\t.get_attribute('innerHTML').strip()\n",
    "\t\t\ttotal_building_units = browser.find_element_by_xpath('//*[@id=\"DivProject\"]/div[2]/div[2]/div[3]/div/div[4]')\\\n",
    "\t\t\t\t.get_attribute('innerHTML').strip()\n",
    "\t\t\trow_index = 3\n",
    "\t\t\tnum_table: WebElement = browser.find_element_by_xpath('//*[@id=\"DivBuilding\"]/div/table/tbody')\n",
    "\t\t\trows: list[WebElement] = num_table.find_elements_by_xpath(\"./tr\")\n",
    "\t\t\ttotal_apartments: int = 0\n",
    "\t\t\ttotal_booked_apartments: int = 0\n",
    "\t\t\twhile row_index <= len(rows):\n",
    "\t\t\t\trow: WebElement = rows[row_index - 1]\n",
    "\t\t\t\tin_rows: list[WebElement] = row.find_elements_by_xpath(\"./td\")[2].find_element_by_xpath(\"./table\").find_element_by_xpath(\"./tbody\").find_elements_by_xpath(\"./tr\")\n",
    "\t\t\t\tfor i in range(1, len(in_rows)):\n",
    "\t\t\t\t\tin_row = in_rows[i]\n",
    "\t\t\t\t\ttotal_apartments += int(in_row.find_elements_by_xpath(\"./td\")[5].get_attribute('innerHTML'))\n",
    "\t\t\t\t\ttotal_booked_apartments += int(in_row.find_elements_by_xpath(\"./td\")[6].get_attribute('innerHTML'))\n",
    "\t\t\t\trow_index += 4\n",
    "\t\t\twriter.writerow([\n",
    "\t\t\t\tproject_name,\n",
    "\t\t\t\tpromoter_name,\n",
    "\t\t\t\tlast_modified_date,\n",
    "\t\t\t\tnet_area,\n",
    "\t\t\t\ttotal_building_units,\n",
    "\t\t\t\tmandal,\n",
    "\t\t\t\tlocality,\n",
    "\t\t\t\tpincode,\n",
    "\t\t\t\ttotal_apartments,\n",
    "\t\t\t\ttotal_booked_apartments,\n",
    "\t\t\t\t(total_apartments - total_booked_apartments)\n",
    "\t\t\t])\n",
    "\t\texcept:\n",
    "\t\t\tprint(\"bruh\")\n",
    "\t\tbrowser.close()\n",
    "\t\tbrowser.switch_to.window(browser.window_handles[0])\n",
    "\n",
    "\tbutton: WebElement = browser.find_elements_by_xpath('//*[@id=\"btnNext\"]')\n",
    "\tbutton.click()\n",
    "\ttime.sleep(10)\n",
    "\tos.makedirs('out', exist_ok=True)\n",
    "\tfile = open(\"out/{}.csv\".format(counter), mode=\"w\")\n",
    "\toutput.seek(0)\n",
    "\tshutil.copyfileobj(output, file, -1)\n",
    "\tfile.close()\n",
    "\tcounter += 1 # Use this in the file name"
   ]
  },
  {
   "cell_type": "markdown",
   "source": [
    "3. Write the 100 entries to a file"
   ],
   "metadata": {
    "collapsed": false
   }
  },
  {
   "cell_type": "code",
   "execution_count": 3,
   "outputs": [],
   "source": [],
   "metadata": {
    "collapsed": false,
    "pycharm": {
     "name": "#%%\n"
    }
   }
  },
  {
   "cell_type": "code",
   "execution_count": null,
   "outputs": [],
   "source": [],
   "metadata": {
    "collapsed": false,
    "pycharm": {
     "name": "#%%\n"
    }
   }
  }
 ],
 "metadata": {
  "kernelspec": {
   "display_name": "Python 3",
   "language": "python",
   "name": "python3"
  },
  "language_info": {
   "codemirror_mode": {
    "name": "ipython",
    "version": 2
   },
   "file_extension": ".py",
   "mimetype": "text/x-python",
   "name": "python",
   "nbconvert_exporter": "python",
   "pygments_lexer": "ipython2",
   "version": "2.7.6"
  }
 },
 "nbformat": 4,
 "nbformat_minor": 0
}